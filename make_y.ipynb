{
 "cells": [
  {
   "cell_type": "code",
   "execution_count": 2,
   "metadata": {},
   "outputs": [],
   "source": [
    "import numpy as np"
   ]
  },
  {
   "cell_type": "code",
   "execution_count": 3,
   "metadata": {},
   "outputs": [],
   "source": [
    "data = np.load(open('data10100.npy', 'rb'))"
   ]
  },
  {
   "cell_type": "code",
   "execution_count": 4,
   "metadata": {},
   "outputs": [
    {
     "data": {
      "text/plain": [
       "(10100, 140, 15)"
      ]
     },
     "execution_count": 4,
     "metadata": {},
     "output_type": "execute_result"
    }
   ],
   "source": [
    "data.shape"
   ]
  },
  {
   "cell_type": "code",
   "execution_count": 19,
   "metadata": {},
   "outputs": [],
   "source": [
    "datay = []\n",
    "for i in range(10100):\n",
    "    temp = data[i, :, :]\n",
    "    y = (temp[:, 0] + temp[:, 1])>10\n",
    "    max_win_rate = 0\n",
    "    index = 0\n",
    "    for j in range(140):\n",
    "        if y[j] and temp[j,0]/(temp[j, 1]+temp[j,0])>max_win_rate:\n",
    "            max_win_rate = temp[j,0]/(temp[j, 1]+temp[j,0])\n",
    "            index = j\n",
    "    z = np.zeros((140, 1))\n",
    "    z[index] = 1\n",
    "    datay.append(z)"
   ]
  },
  {
   "cell_type": "code",
   "execution_count": 20,
   "metadata": {},
   "outputs": [],
   "source": [
    "npdatay = np.array(datay)"
   ]
  },
  {
   "cell_type": "code",
   "execution_count": 21,
   "metadata": {},
   "outputs": [
    {
     "data": {
      "text/plain": [
       "(10100, 140, 1)"
      ]
     },
     "execution_count": 21,
     "metadata": {},
     "output_type": "execute_result"
    }
   ],
   "source": [
    "npdatay.shape"
   ]
  },
  {
   "cell_type": "code",
   "execution_count": 32,
   "metadata": {},
   "outputs": [],
   "source": [
    "np.save(open('ydata10100.npy', 'wb'), npdatay)"
   ]
  },
  {
   "cell_type": "code",
   "execution_count": 24,
   "metadata": {},
   "outputs": [],
   "source": [
    "dimension = data.shape"
   ]
  },
  {
   "cell_type": "code",
   "execution_count": 29,
   "metadata": {},
   "outputs": [],
   "source": [
    "train_xdata = data[:int(0.7*dimension[0]),:,:]\n",
    "val_xdata = data[int(0.7*dimension[0]):int(0.8*dimension[0]),:,:]\n",
    "eval_xdata = data[int(0.8*dimension[0]):,:,:]"
   ]
  },
  {
   "cell_type": "code",
   "execution_count": 30,
   "metadata": {},
   "outputs": [],
   "source": [
    "train_ydata = npdatay[:int(0.7*dimension[0]),:,:]\n",
    "val_ydata = npdatay[int(0.7*dimension[0]):int(0.8*dimension[0]),:,:]\n",
    "eval_ydata = npdatay[int(0.8*dimension[0]):,:,:]"
   ]
  },
  {
   "cell_type": "code",
   "execution_count": 31,
   "metadata": {},
   "outputs": [],
   "source": [
    "np.save(open('train_xdata10100.npy', 'wb'), train_xdata)\n",
    "np.save(open('train_ydata10100.npy', 'wb'), train_ydata)\n",
    "np.save(open('val_xdata10100.npy', 'wb'), val_xdata)\n",
    "np.save(open('val_ydata10100.npy', 'wb'), val_ydata)\n",
    "np.save(open('eval_xdata10100.npy', 'wb'), eval_xdata)\n",
    "np.save(open('eval_ydata10100.npy', 'wb'), eval_ydata)"
   ]
  },
  {
   "cell_type": "code",
   "execution_count": 33,
   "metadata": {},
   "outputs": [
    {
     "data": {
      "text/plain": [
       "(7070, 140, 15)"
      ]
     },
     "execution_count": 33,
     "metadata": {},
     "output_type": "execute_result"
    }
   ],
   "source": []
  },
  {
   "cell_type": "code",
   "execution_count": null,
   "metadata": {},
   "outputs": [],
   "source": []
  }
 ],
 "metadata": {
  "kernelspec": {
   "display_name": "Python 3",
   "language": "python",
   "name": "python3"
  },
  "language_info": {
   "codemirror_mode": {
    "name": "ipython",
    "version": 3
   },
   "file_extension": ".py",
   "mimetype": "text/x-python",
   "name": "python",
   "nbconvert_exporter": "python",
   "pygments_lexer": "ipython3",
   "version": "3.5.2"
  }
 },
 "nbformat": 4,
 "nbformat_minor": 2
}
